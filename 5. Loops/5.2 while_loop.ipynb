{
 "cells": [
  {
   "cell_type": "markdown",
   "metadata": {},
   "source": [
    "while loop is used when the iteration is not known in advance."
   ]
  },
  {
   "cell_type": "code",
   "execution_count": 1,
   "metadata": {},
   "outputs": [
    {
     "name": "stdout",
     "output_type": "stream",
     "text": [
      "2\n",
      "4\n",
      "6\n",
      "8\n",
      "10\n"
     ]
    }
   ],
   "source": [
    "i = 0        #define counter/initial statement\n",
    "while i<10:  #declare condition statement\n",
    "    i += 2   #increment statement\n",
    "    print(i)"
   ]
  },
  {
   "cell_type": "code",
   "execution_count": 6,
   "metadata": {},
   "outputs": [
    {
     "name": "stdout",
     "output_type": "stream",
     "text": [
      "1\n",
      "2\n",
      "3\n",
      "4\n",
      "5\n",
      "6\n",
      "7\n",
      "8\n",
      "9\n",
      "10\n"
     ]
    }
   ],
   "source": [
    "a=1\n",
    "while a<=10:\n",
    "    print(a)\n",
    "    a=a+1"
   ]
  },
  {
   "cell_type": "code",
   "execution_count": 2,
   "metadata": {},
   "outputs": [
    {
     "name": "stdin",
     "output_type": "stream",
     "text": [
      "Enter the number: 8\n"
     ]
    },
    {
     "name": "stdout",
     "output_type": "stream",
     "text": [
      "8 X 1 = 8 \n",
      "\n",
      "8 X 2 = 16 \n",
      "\n",
      "8 X 3 = 24 \n",
      "\n",
      "8 X 4 = 32 \n",
      "\n",
      "8 X 5 = 40 \n",
      "\n",
      "8 X 6 = 48 \n",
      "\n",
      "8 X 7 = 56 \n",
      "\n",
      "8 X 8 = 64 \n",
      "\n",
      "8 X 9 = 72 \n",
      "\n",
      "8 X 10 = 80 \n",
      "\n"
     ]
    }
   ],
   "source": [
    "#credit javatpoint\n",
    "i=1  \n",
    "number=0  \n",
    "b=9  \n",
    "number = int(input(\"Enter the number:\"))  \n",
    "while i<=10:  \n",
    "    print(\"%d X %d = %d \\n\"%(number,i,number*i))\n",
    "    i = i+1"
   ]
  },
  {
   "cell_type": "markdown",
   "metadata": {},
   "source": [
    "Infinite while loop:\n",
    "       If the condition given in the while loop never becomes false then the while loop will never terminate and result into the infinite while loop."
   ]
  },
  {
   "cell_type": "code",
   "execution_count": null,
   "metadata": {},
   "outputs": [],
   "source": [
    "while True:\n",
    "    print(\"Infinite loop\") #infinite time"
   ]
  },
  {
   "cell_type": "raw",
   "metadata": {},
   "source": [
    "Remember!!!! When run this program that time program terminate of infinite time."
   ]
  },
  {
   "cell_type": "code",
   "execution_count": null,
   "metadata": {},
   "outputs": [],
   "source": [
    "while (1):  \n",
    "    print(\"Hi! we are inside the infinite while loop\");  #infinite time\n",
    "    \n",
    "    \n",
    "#Also, this is infinite loop because condition is true. credit javatpoint\n",
    "var = 1  \n",
    "while var != 2:  #infinite time\n",
    "    i = int(input(\"Enter the number?\"))  \n",
    "    print (\"Entered value is %d\"%(i))  "
   ]
  },
  {
   "cell_type": "code",
   "execution_count": 2,
   "metadata": {},
   "outputs": [
    {
     "name": "stdout",
     "output_type": "stream",
     "text": [
      "1\n",
      "2\n",
      "3\n",
      "4\n",
      "5\n",
      "The while loop exhausted\n"
     ]
    }
   ],
   "source": [
    "i=1\n",
    "while i<=5:  \n",
    "    print(i)  \n",
    "    i=i+1\n",
    "else:\n",
    "    print(\"The while loop exhausted\")"
   ]
  },
  {
   "cell_type": "code",
   "execution_count": 11,
   "metadata": {},
   "outputs": [
    {
     "name": "stdout",
     "output_type": "stream",
     "text": [
      "1\n",
      "2\n"
     ]
    }
   ],
   "source": [
    "i=1  \n",
    "while i<=5:  \n",
    "    print(i)  \n",
    "    i=i+1  \n",
    "    if(i==3): #Condition is true. so,break here. \n",
    "        break \n",
    "else:\n",
    "    print(\"The while loop exhausted\")  "
   ]
  },
  {
   "cell_type": "code",
   "execution_count": 7,
   "metadata": {},
   "outputs": [
    {
     "name": "stdout",
     "output_type": "stream",
     "text": [
      "1 1\n",
      "1\n",
      "1\n"
     ]
    }
   ],
   "source": [
    "i=j=1\n",
    "while i <= 4 and j <= 3:\n",
    "    print(i,j)\n",
    "    print(i)\n",
    "    print(j)\n",
    "    break     #this is infinite time running.that time stop program use break keyword,stop this program.\n",
    "    "
   ]
  }
 ],
 "metadata": {
  "kernelspec": {
   "display_name": "Python 3",
   "language": "python",
   "name": "python3"
  },
  "language_info": {
   "codemirror_mode": {
    "name": "ipython",
    "version": 3
   },
   "file_extension": ".py",
   "mimetype": "text/x-python",
   "name": "python",
   "nbconvert_exporter": "python",
   "pygments_lexer": "ipython3",
   "version": "3.6.7"
  }
 },
 "nbformat": 4,
 "nbformat_minor": 2
}
