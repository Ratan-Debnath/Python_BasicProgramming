{
 "cells": [
  {
   "cell_type": "markdown",
   "metadata": {},
   "source": [
    "When writing the same code again and again, code is use finite number of times.That time use \"Loop\"."
   ]
  },
  {
   "cell_type": "markdown",
   "metadata": {},
   "source": [
    "\"For Loop\" which is to be best used when the number of iteration known in advanced."
   ]
  },
  {
   "cell_type": "markdown",
   "metadata": {},
   "source": [
    "Syntex:\n",
    "    for iterating_var in sequence:  \n",
    "    statement(s)  "
   ]
  },
  {
   "cell_type": "code",
   "execution_count": 1,
   "metadata": {},
   "outputs": [
    {
     "name": "stdout",
     "output_type": "stream",
     "text": [
      "1\n",
      "3\n",
      "5\n",
      "7\n",
      "9\n",
      "11\n"
     ]
    }
   ],
   "source": [
    "for i in range(1,12,2):\n",
    "    print(i)"
   ]
  },
  {
   "cell_type": "markdown",
   "metadata": {},
   "source": [
    "range(start,end,step)"
   ]
  },
  {
   "cell_type": "code",
   "execution_count": 3,
   "metadata": {},
   "outputs": [
    {
     "name": "stdout",
     "output_type": "stream",
     "text": [
      "0\n",
      "1\n",
      "2\n",
      "3\n",
      "4\n",
      "5\n",
      "6\n",
      "7\n",
      "8\n",
      "9\n"
     ]
    }
   ],
   "source": [
    "for i in range(0,10):\n",
    "    print(i)"
   ]
  },
  {
   "cell_type": "code",
   "execution_count": 4,
   "metadata": {},
   "outputs": [
    {
     "name": "stdout",
     "output_type": "stream",
     "text": [
      "S\n",
      "t\n",
      "r\n",
      "i\n",
      "n\n",
      "g\n",
      " \n",
      "T\n",
      "r\n",
      "a\n",
      "v\n",
      "e\n",
      "r\n",
      "s\n",
      "a\n",
      "l\n",
      "!\n"
     ]
    }
   ],
   "source": [
    "string = \"String Traversal!\"\n",
    "for i in range(len(string)):\n",
    "    print(string[i])"
   ]
  },
  {
   "cell_type": "code",
   "execution_count": 5,
   "metadata": {},
   "outputs": [
    {
     "name": "stdout",
     "output_type": "stream",
     "text": [
      "S\n",
      "t\n",
      "r\n",
      "i\n",
      "n\n",
      "g\n",
      " \n",
      "T\n",
      "r\n",
      "a\n",
      "v\n",
      "e\n",
      "r\n",
      "s\n",
      "a\n",
      "l\n",
      "!\n"
     ]
    }
   ],
   "source": [
    "#Another way \n",
    "string = \"String Traversal!\"\n",
    "for char in string:\n",
    "    print(char)"
   ]
  },
  {
   "cell_type": "code",
   "execution_count": 8,
   "metadata": {},
   "outputs": [
    {
     "name": "stdout",
     "output_type": "stream",
     "text": [
      "0\n",
      "1\n",
      "2\n",
      "0\n",
      "1\n",
      "2\n",
      "0\n",
      "1\n",
      "2\n",
      "0\n",
      "1\n",
      "2\n"
     ]
    }
   ],
   "source": [
    "for i in range(4):\n",
    "    for j in range(3):\n",
    "        print(j)"
   ]
  },
  {
   "cell_type": "code",
   "execution_count": 10,
   "metadata": {},
   "outputs": [
    {
     "name": "stdout",
     "output_type": "stream",
     "text": [
      "1  |2  |3  |4  |5  |6  |7  |8  |9  |10 |"
     ]
    }
   ],
   "source": [
    "#table format\n",
    "for i in range(1,11):\n",
    "    print('{:<3}|'.format(i),end=\"\")"
   ]
  },
  {
   "cell_type": "code",
   "execution_count": 4,
   "metadata": {},
   "outputs": [
    {
     "name": "stdout",
     "output_type": "stream",
     "text": [
      "1  |   1   2   3   4   5   6   7   8   9  10\n",
      "############################################\n",
      "2  |   2   4   6   8  10  12  14  16  18  20\n",
      "3  |   3   6   9  12  15  18  21  24  27  30\n",
      "4  |   4   8  12  16  20  24  28  32  36  40\n",
      "5  |   5  10  15  20  25  30  35  40  45  50\n",
      "6  |   6  12  18  24  30  36  42  48  54  60\n",
      "7  |   7  14  21  28  35  42  49  56  63  70\n",
      "8  |   8  16  24  32  40  48  56  64  72  80\n",
      "9  |   9  18  27  36  45  54  63  72  81  90\n",
      "10 |  10  20  30  40  50  60  70  80  90 100\n"
     ]
    }
   ],
   "source": [
    "#10*10 multipliction table\n",
    "for i in range(1,11):\n",
    "    print('{:<3}|'.format(i),end=\"\")\n",
    "    \n",
    "    for j in range(1,11):\n",
    "        print('{:>4}'.format(i * j),end=\"\")\n",
    "    \n",
    "    if i == 1:\n",
    "        print('\\n{:#^44}'.format(\"\"),end=\"\")\n",
    "    print(\"\")\n",
    "    "
   ]
  },
  {
   "cell_type": "code",
   "execution_count": null,
   "metadata": {},
   "outputs": [],
   "source": []
  }
 ],
 "metadata": {
  "kernelspec": {
   "display_name": "Python 3",
   "language": "python",
   "name": "python3"
  },
  "language_info": {
   "codemirror_mode": {
    "name": "ipython",
    "version": 3
   },
   "file_extension": ".py",
   "mimetype": "text/x-python",
   "name": "python",
   "nbconvert_exporter": "python",
   "pygments_lexer": "ipython3",
   "version": "3.6.7"
  }
 },
 "nbformat": 4,
 "nbformat_minor": 2
}
